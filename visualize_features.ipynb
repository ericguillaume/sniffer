{
 "cells": [
  {
   "cell_type": "code",
   "execution_count": 18,
   "metadata": {},
   "outputs": [],
   "source": [
    "# load variables and configurations\n",
    "\n",
    "%matplotlib inline \n",
    "import matplotlib.pyplot as plt\n",
    "\n",
    "import csv\n",
    "\n",
    "from utils import convert_symbol_into_usdt, date_to_string\n",
    "from config import USDT_SYMBOLS, DATA_FOLDER_NAME_READ\n",
    "abstract_feature_symbols = [\"diff_domains\"] #, \"diff_domains_weighted\"]\n",
    "\n",
    "\n",
    "nb_symbol_limit = 30 # to delerte\n",
    "nb_symbol_to_currencies_graph_in_bokeh = 3\n",
    "matplotlib_sequence_length_limit = 6000 # \"nolimit\"\n",
    "bokeh_sequence_length_limit = \"nolimit\" # \"nolimit\"\n",
    "bucket_middle = 0.003 # 0.004\n",
    "\n",
    "\n",
    "\n",
    "\n",
    "\n",
    "def get_evaluation_periods(start_timestamp, end_timestamp, period_length_in_s):\n",
    "    evaluation_periods = []\n",
    "    need_to_break = False\n",
    "    for start_t in range(start_timestamp, end_timestamp, period_length_in_s):\n",
    "        end_t = start_t + period_length_in_s\n",
    "        if end_t > end_timestamp:\n",
    "            need_to_break = True\n",
    "        evaluation_periods.append({'start': start_t, 'end': end_t})\n",
    "\n",
    "        if need_to_break:\n",
    "            break\n",
    "    return evaluation_periods\n",
    "\n",
    "\n",
    "\n",
    "# estimation_end_date \"nolimit\" available\n",
    "\n",
    "# 2 stables weeks\n",
    "# estimation_start_date = 1522447200 # 31th of March 2018\n",
    "# estimation_end_date = 1523321940 # 10th of April 2018\n",
    "\n",
    "# 1 decreasing week\n",
    "# estimation_start_date = 1521846000 # 24th of Match 2018\n",
    "# estimation_end_date = 1522447200 # 31th of March 2018\n",
    "\n",
    "# 1 growing week   - week with amazing results\n",
    "#estimation_start_date = 1523321940 # 10th of March 2018\n",
    "#estimation_end_date = 1523916000 # 17th of April 2018\n",
    "\n",
    "# 1 growing week\n",
    "# estimation_start_date = 1523916000 # 17th of March 2018\n",
    "# estimation_end_date = 1524348000 # 22th of April 2018\n",
    "\n",
    "# december 2017\n",
    "# estimation_start_date = 1512082800\n",
    "# estimation_end_date = 1514156400\n",
    "\n",
    "# 4 months\n",
    "# estimation_start_date = 1518822000\n",
    "# estimation_end_date = 1526810400\n",
    "\n",
    "# 4 months v2\n",
    "estimation_start_date = 1518822000\n",
    "estimation_end_date = 1526810400\n",
    "\n",
    "\n",
    "\n",
    "# semaine des tests de la premiere implementation de l'algo\n",
    "bot_test_period_start = 1526378400\n",
    "bot_test_period_end = 1526810400\n",
    "def get_evaluation_periods_during_bot_test_period(): # all last a day\n",
    "    one_day_in_s = 24 * 3600\n",
    "    return get_evaluation_periods(bot_test_period_start, bot_test_period_end, one_day_in_s)\n",
    "\n",
    "\n",
    "\n",
    "selected_symbols = USDT_SYMBOLS[:nb_symbol_limit]\n",
    "\n",
    "\n",
    "\n",
    "\n"
   ]
  },
  {
   "cell_type": "code",
   "execution_count": 3,
   "metadata": {},
   "outputs": [
    {
     "name": "stdout",
     "output_type": "stream",
     "text": [
      "testing if we can read the files correctly\n",
      "['1518822000000', '10179.95']\n",
      "\n",
      "testing if we can read the files correctly\n",
      "['1518822000000', '942.61247025']\n",
      "\n",
      "testing if we can read the files correctly\n",
      "['1518822000000', '1.112668535']\n",
      "\n"
     ]
    }
   ],
   "source": [
    "# load disk data, SLOW\n",
    "\n",
    "def get_dict_symbol_rows():\n",
    "    dict_symbol_rows = {}\n",
    "    for idx, symbol in enumerate(selected_symbols):\n",
    "        with open(\"{}/binance_{}_only_start_price.csv\".format(DATA_FOLDER_NAME_READ, symbol), newline='') as csvfile:\n",
    "            spamreader = csv.reader(csvfile, delimiter=',', quotechar='|')\n",
    "            rows = [row for row in spamreader]\n",
    "                \n",
    "            dict_symbol_rows[symbol] = rows\n",
    "\n",
    "        if idx <= 2:\n",
    "            print(\"testing if we can read the files correctly\")\n",
    "            print(rows[0])\n",
    "            print()\n",
    "    return dict_symbol_rows\n",
    "\n",
    "dict_symbol_rows = get_dict_symbol_rows()\n"
   ]
  },
  {
   "cell_type": "code",
   "execution_count": 4,
   "metadata": {},
   "outputs": [
    {
     "name": "stdout",
     "output_type": "stream",
     "text": [
      "(133441,)\n"
     ]
    }
   ],
   "source": [
    "# compute timestamps, prices and diffs\n",
    "\n",
    "import numpy as np\n",
    "from collections import defaultdict\n",
    "\n",
    "mask_length = 60\n",
    "prices_mask = np.zeros((mask_length,), dtype='float')\n",
    "prices_mask[mask_length - 1] = -1\n",
    "prices_mask[0] = 1\n",
    "timestamps_mask = np.zeros((mask_length,), dtype='float')\n",
    "timestamps_mask[0] = 1\n",
    "\n",
    "\n",
    "def get_bucket(value):\n",
    "    if value <= -bucket_middle:\n",
    "        return -1\n",
    "    elif value >= -bucket_middle and value <= bucket_middle:\n",
    "        return 0\n",
    "    elif value >= bucket_middle:\n",
    "        return 1\n",
    "    \n",
    "\n",
    "def get_x_y(): \n",
    "    d_features_graph_scale = defaultdict(lambda: 1.0) # 1 divided by the first price obtained\n",
    "    d_symbol_timestamps = {} # timestamps in seconds\n",
    "    d_symbol_prices = {} # in USDT\n",
    "    d_symbol_diff = {} # difference of price\n",
    "    d_symbol_bucket = {} # -1 or 0 or 1\n",
    "    for idx, symbol in enumerate(selected_symbols):\n",
    "        timestamps = []\n",
    "        prices = []\n",
    "        rows = dict_symbol_rows[symbol]\n",
    "        for row in rows:\n",
    "            timestamp = int(row[0]) / 1000\n",
    "            price = float(row[1])\n",
    "            timestamps.append(timestamp)\n",
    "            prices.append(price)\n",
    "\n",
    "        d_symbol_prices[symbol] = np.array(prices, dtype='float')\n",
    "\n",
    "        timestamps = np.convolve(timestamps, timestamps_mask, mode = 'valid')\n",
    "        d_symbol_timestamps[symbol] = timestamps\n",
    "\n",
    "        diff = np.convolve(prices, prices_mask, mode = 'valid')\n",
    "        #std = np.std(diff)\n",
    "        #diff /= std\n",
    "        d_features_graph_scale[symbol] = 1.0 / prices[0]\n",
    "        d_symbol_diff[symbol] = diff\n",
    "\n",
    "        buckets = [get_bucket(value / prices[0]) for value in diff] # ERROR: avaiat oublie de divise par prices[0], dependences ici, car mon code fait 4 trucs en meme temps\n",
    "        d_symbol_bucket[symbol] = buckets\n",
    "\n",
    "        if idx == 0:\n",
    "            print(timestamps.shape)\n",
    "        assert(timestamps.shape[0] == d_symbol_timestamps[\"BTCUSDT\"].shape[0])\n",
    "    return d_symbol_timestamps, d_symbol_prices, d_symbol_diff, d_symbol_bucket, d_features_graph_scale\n",
    "\n",
    "\n",
    "d_symbol_timestamps, d_symbol_prices, d_symbol_diff, d_symbol_bucket, d_features_graph_scale = get_x_y()\n",
    "    \n"
   ]
  },
  {
   "cell_type": "code",
   "execution_count": 5,
   "metadata": {},
   "outputs": [
    {
     "name": "stdout",
     "output_type": "stream",
     "text": [
      "[-0.2        -0.06666667 -0.2        -0.2        -0.5        -0.26666667\n",
      " -0.3        -0.4        -0.56666667 -0.56666667]\n"
     ]
    }
   ],
   "source": [
    "# compute diff_domain and its weighted version\n",
    "\n",
    "# ERROR if \"diff_domains\" in selected_symbols:/ ### UTILISER FONCTION DU MEME NOM POUR PLUSIEURS CONTENT FAIT TACHE ICI !!\n",
    "#     selected_symbols.remove(\"diff_domains\")\n",
    "    \n",
    "    \n",
    "# diff_domains: sum of buckets divided by number of symbols, value in [-1, 1]\n",
    "def get_diff_domains_and_weighted_version(s_timestamps):\n",
    "    diff_domains = np.zeros(s_timestamps.shape)\n",
    "    #diff_domains_weighted = np.zeros(s_timestamps.shape)\n",
    "    for symbol in selected_symbols:\n",
    "        diff_domains += d_symbol_bucket[symbol]\n",
    "        #weight = d_symbol_weight[symbol]\n",
    "        #diff_domains_weighted += [x * weight for x in d_symbol_bucket[symbol]]\n",
    "\n",
    "    diff_domains /= len(selected_symbols)\n",
    "    d_features_graph_scale[\"diff_domains\"] = 1.0 / 100.0\n",
    "\n",
    "    #sum_weights = sum([d_symbol_weight[s] for s in d_symbol_weight])\n",
    "    #diff_domains_weighted /= sum_weights\n",
    "    #d_features_graph_scale[\"diff_domains_weighted\"] = 1.0 / 100.0\n",
    "    \n",
    "    print(diff_domains[0:10])\n",
    "    #print(diff_domains_weighted[0:10])\n",
    "\n",
    "    return diff_domains #, diff_domains_weighted\n",
    "\n",
    "\n",
    "diff_domains = get_diff_domains_and_weighted_version(d_symbol_timestamps[\"BTCUSDT\"])\n",
    "\n",
    "d_symbol_timestamps[\"diff_domains\"] = d_symbol_timestamps[\"BTCUSDT\"]\n",
    "d_symbol_diff[\"diff_domains\"] = diff_domains\n",
    "\n",
    "#d_symbol_timestamps[\"diff_domains_weighted\"] = d_symbol_timestamps[\"BTCUSDT\"] NOT COMPUTED PROPERLY\n",
    "#d_symbol_diff[\"diff_domains_weighted\"] = diff_domains_weighted\n",
    "\n"
   ]
  },
  {
   "cell_type": "code",
   "execution_count": null,
   "metadata": {},
   "outputs": [],
   "source": [
    "# display matpltolib graphs\n",
    "\n",
    "symbols_to_graph_with_matplotlib = abstract_feature_symbols + selected_symbols\n",
    "\n",
    "# x-axis: number of days\n",
    "def display_matplotlib_graphs(d_symbol_timestamps, d_symbol_diff, matplotlib_sequence_length_limit):\n",
    "    for symbol in symbols_to_graph_with_matplotlib:\n",
    "        x = d_symbol_timestamps[symbol]\n",
    "        y = d_symbol_diff[symbol]\n",
    "        \n",
    "        if matplotlib_sequence_length_limit != \"nolimit\":\n",
    "            x = x[:matplotlib_sequence_length_limit]\n",
    "            y = y[:matplotlib_sequence_length_limit]\n",
    "\n",
    "        x_per_day = [x_datum / float(24 * 3600) for x_datum in x]\n",
    "        plt.title(symbol)\n",
    "        plt.plot(x_per_day, y, c='blue')\n",
    "        plt.show()\n",
    "        \n",
    "display_matplotlib_graphs(d_symbol_timestamps, d_symbol_diff, matplotlib_sequence_length_limit)\n",
    "    "
   ]
  },
  {
   "cell_type": "code",
   "execution_count": 6,
   "metadata": {},
   "outputs": [],
   "source": [
    "# add functions display bokeh graphs\n",
    "\n",
    "from bokeh.layouts import gridplot\n",
    "from bokeh.plotting import figure, show, output_file\n",
    "\n",
    "from utils import CATEGORY_20_PALETTE, get_palette_color, CATEGORY_3_DASH_PATTERNS, get_dash_pattern\n",
    "    \n",
    "    \n",
    "\n",
    "symbols_to_graph_in_bokeh = abstract_feature_symbols + selected_symbols[:nb_symbol_to_currencies_graph_in_bokeh]\n",
    "\n",
    "def display_bokeh_graphs(symbols, d_symbol_timestamps, d_symbol_diff, bokeh_sequence_length_limit, is_scaled):\n",
    "    fig = figure(title=\"WARNING: scaled features\", x_axis_type=\"datetime\")\n",
    "    for idx, symbol in enumerate(symbols):\n",
    "        x = d_symbol_timestamps[symbol]\n",
    "        y = d_symbol_diff[symbol]\n",
    "\n",
    "        if bokeh_sequence_length_limit != \"nolimit\":\n",
    "            x = x[:bokeh_sequence_length_limit]\n",
    "            y = y[:bokeh_sequence_length_limit]\n",
    "            \n",
    "        x = [t * 1000 for t in x] # bokeh needs ms\n",
    "        \n",
    "        scale_factor = d_features_graph_scale[symbol] if is_scaled else 1.0\n",
    "        y = [yi * scale_factor for yi in y]\n",
    "        fig.line(x, y, line_width=3, legend=\"{} diff scaled {} times\".format(symbol, scale_factor), line_dash=get_dash_pattern(idx), color=get_palette_color(idx))\n",
    "    show(gridplot([[fig]], plot_width=int(1262 * 0.95), plot_height=int(780 * 0.95)))\n",
    "    output_file(\"./graph_features.html\", title=\"\")\n",
    "    \n"
   ]
  },
  {
   "cell_type": "code",
   "execution_count": null,
   "metadata": {},
   "outputs": [],
   "source": [
    "# display all currencies bokeh graph \n",
    "\n",
    "is_scaled = True\n",
    "display_bokeh_graphs(symbols_to_graph_in_bokeh, d_symbol_timestamps, d_symbol_diff, bokeh_sequence_length_limit, is_scaled)\n"
   ]
  },
  {
   "cell_type": "code",
   "execution_count": null,
   "metadata": {},
   "outputs": [],
   "source": [
    "# display \"diff_domains\" bokeh graph\n",
    "\n",
    "is_scaled = False\n",
    "display_bokeh_graphs([\"diff_domains\"], d_symbol_timestamps, d_symbol_diff, bokeh_sequence_length_limit, is_scaled)\n"
   ]
  },
  {
   "cell_type": "code",
   "execution_count": 12,
   "metadata": {},
   "outputs": [],
   "source": [
    "# functions to evaluate our trading algorithm\n",
    "\n",
    "from collections import defaultdict\n",
    "\n",
    "\n",
    "# IOTAUSDT\n",
    "# lazy_wins = -0.5312443952377469\n",
    "# wins = 0.11148217232292319\n",
    "# nb_bets = 44\n",
    "\n",
    "\n",
    "def display_histogram_wins(symbol, win_array):\n",
    "    if len(win_array) > 0:\n",
    "        plt.title('Histogram of wins for {}'.format(symbol))\n",
    "        plt.xlabel('Relative win'.format(np.median(win_array)))\n",
    "        plt.ylabel('Numbr of wins')\n",
    "        plt.hist(win_array, bins=50, range=(-0.02, 0.02))\n",
    "        plt.show()\n",
    "    \n",
    "    \n",
    "def try_winning(buy_trigger, display_all_currencies_graphs, \\\n",
    "                symbol, start_date, end_date, all_bets, all_won_sums, print_log):    \n",
    "    #d_symbol_minutes_before_retrying = defaultdict(int)\n",
    "    wins = 0.0 # sum of relative wins\n",
    "    keep_for_x_minutes = 10\n",
    "    dont_touch_same_currency_for_n_minutes = 50\n",
    "    #buy_trigger = 0.86 # debug 0.75\n",
    "\n",
    "    nb_debug_msgs = 100 # debug\n",
    "    \n",
    "    is_first_timestamp_index_set = False\n",
    "    first_timestamp_index = 0\n",
    "    last_timestamp_index = 0\n",
    "\n",
    "    nb_bets = 0\n",
    "    won_bets = 0\n",
    "    win_array = []\n",
    "    minutes_before_retrying = 0\n",
    "    for idx, t in enumerate(d_symbol_timestamps[symbol][:-keep_for_x_minutes]): # on joue sur 60 seconds\n",
    "        if not (t >= start_date):\n",
    "            continue\n",
    "            \n",
    "        if not (end_date == \"nolimit\" or t <= end_date):\n",
    "            continue\n",
    "            \n",
    "        minutes_before_retrying = max(0, minutes_before_retrying - 1)\n",
    "        \n",
    "        # computed first timestamps index where we works according to 'start_date'\n",
    "        if not is_first_timestamp_index_set:\n",
    "            first_timestamp_index = idx\n",
    "            is_first_timestamp_index_set = True\n",
    "            \n",
    "        last_timestamp_index = idx\n",
    "\n",
    "        # first condition to decide to buy\n",
    "        diff_domain = d_symbol_diff[\"diff_domains\"][idx]\n",
    "        if not (diff_domain >= buy_trigger): ### todo problem BUG pk diff et pas relative diff\n",
    "            continue\n",
    "            \n",
    "        if not minutes_before_retrying == 0:\n",
    "            continue\n",
    "            \n",
    "        # second condition to decide to buy\n",
    "        bucket = d_symbol_bucket[symbol][idx]\n",
    "        condition_to_buy = (bucket == 1 and d_symbol_diff[symbol][idx] <= 0.005) # on fait que achete 1 pour le moment\n",
    "        if not condition_to_buy: \n",
    "            continue\n",
    "            \n",
    "        # buying\n",
    "        win = d_symbol_prices[symbol][idx + keep_for_x_minutes] - d_symbol_prices[symbol][idx]\n",
    "        win /= d_symbol_prices[symbol][idx] #  relative win\n",
    "        if win > 0: \n",
    "            won_bets += 1\n",
    "        win_array.append(win)\n",
    "        if nb_debug_msgs > 0:\n",
    "            nb_debug_msgs -= 1\n",
    "#             print(idx, win)\n",
    "            #print(\"{:.4f}\".format(float(win)))\n",
    "        wins += win \n",
    "        nb_bets +=1\n",
    "        minutes_before_retrying = dont_touch_same_currency_for_n_minutes\n",
    "        \n",
    "\n",
    "    price_beginning = d_symbol_prices[symbol][first_timestamp_index]\n",
    "    price_end = d_symbol_prices[symbol][last_timestamp_index] # ERROR: avant c'etais -1 qui risquait de pas passer si on \n",
    "                                                                # changeait la end date du fichier, introduisant une \n",
    "                                                                # FAR DEPENDENCY\n",
    "    lazy_wins = (price_end - price_beginning) / price_beginning\n",
    "        \n",
    "    if print_log:\n",
    "        print(symbol)\n",
    "        print(\"lazy_wins = {}\".format(lazy_wins))\n",
    "        print(\"wins = {}\".format(wins))\n",
    "        print(\"nb_bets = {}\".format(nb_bets))\n",
    "        print(\"won_bets = {}\".format(won_bets))\n",
    "        if nb_bets > 0:\n",
    "            print(\"percentage of bets won = {:.2f}\".format(won_bets / float(nb_bets)))\n",
    "    if display_all_currencies_graphs:\n",
    "        display_histogram_wins(symbol, win_array)\n",
    "    if print_log or display_all_currencies_graphs:\n",
    "        print(\"_____________________________________________________________________ \\n\")\n",
    "    all_bets.extend(win_array)\n",
    "    \n",
    "    return all_won_sums + wins\n",
    "    \n",
    "    \n",
    "def try_winning_with_all_cryptos(array_buy_trigger, \\\n",
    "                                 start_date, end_date, display_all_currencies_graphs, print_log):\n",
    "    for buy_trigger in array_buy_trigger:\n",
    "        print(\"buy_trigger = {}, start_date = {}, end_date= {}\" \\\n",
    "              .format(buy_trigger, start_date, end_date))\n",
    "        all_won_sums = 0\n",
    "        all_bets = []\n",
    "\n",
    "        for symbol in selected_symbols:\n",
    "            all_won_sums = try_winning(buy_trigger, \\\n",
    "                                       display_all_currencies_graphs, symbol, \\\n",
    "                                       start_date, end_date, all_bets, all_won_sums, print_log)\n",
    "\n",
    "        display_histogram_wins(\"All currencies buy when diff_domains reaches {}\" \\\n",
    "                               .format(buy_trigger), all_bets)\n",
    "\n",
    "        nb_won_bets = 0\n",
    "        for win in all_bets:\n",
    "            if win >= 0:\n",
    "                nb_won_bets +=1\n",
    "        print(\"nb_of_bets = {}\".format(len(all_bets)))\n",
    "        print(\"ratio of won bets = {}\".format(nb_won_bets / float(len(all_bets))))\n",
    "        print(\"median wins = {}\".format(np.median(all_bets)))\n",
    "        print(\"all_won_sums = {}\".format(all_won_sums))\n",
    "        print(\"_____________________________________________________________________ \\n\")\n",
    "\n",
    "\n",
    "def study_all_days_bot_test_periods(buy_trigger):\n",
    "    display_all_currencies_graphs = False\n",
    "    print_log = False\n",
    "    for row in get_evaluation_periods_during_bot_test_period():\n",
    "        start = row['start']\n",
    "        end = row['end']\n",
    "        try_winning_with_all_cryptos([buy_trigger], start, end, display_all_currencies_graphs, print_log)\n",
    "\n",
    "    try_winning_with_all_cryptos([buy_trigger], bot_test_period_start, bot_test_period_end, display_all_currencies_graphs, print_log)\n",
    "    \n",
    "    \n",
    "def study_all_weeks_all_periods(array_buy_trigger):\n",
    "    for buy_trigger in array_buy_trigger:\n",
    "        display_all_currencies_graphs = False\n",
    "        print_log = False\n",
    "\n",
    "        one_week_in_s = 7 * 24 * 3600\n",
    "        for row in get_evaluation_periods(estimation_start_date, estimation_end_date, one_week_in_s):\n",
    "            start = row['start']\n",
    "            end = row['end']\n",
    "            try_winning_with_all_cryptos([buy_trigger], start, end, display_all_currencies_graphs, print_log)\n",
    "\n",
    "        try_winning_with_all_cryptos([buy_trigger], estimation_start_date, estimation_end_date, display_all_currencies_graphs, print_log)\n",
    "        \n",
    "\n",
    "def study_all_period(array_buy_trigger):\n",
    "    for buy_trigger in array_buy_trigger:\n",
    "        display_all_currencies_graphs = False\n",
    "        print_log = False\n",
    "        \n",
    "        try_winning_with_all_cryptos([buy_trigger], estimation_start_date, estimation_end_date, display_all_currencies_graphs, print_log)\n",
    "\n",
    "\n"
   ]
  },
  {
   "cell_type": "code",
   "execution_count": 17,
   "metadata": {},
   "outputs": [
    {
     "name": "stdout",
     "output_type": "stream",
     "text": [
      "buy_trigger = 0.5, start_date = 1523321940, end_date= 1523916000\n"
     ]
    },
    {
     "data": {
      "image/png": "[encoded data removed]",
      "text/plain": [
       "<matplotlib.figure.Figure at 0x1436b54a8>"
      ]
     },
     "metadata": {},
     "output_type": "display_data"
    },
    {
     "name": "stdout",
     "output_type": "stream",
     "text": [
      "nb_of_bets = 479\n",
      "ratio of won bets = 0.6576200417536534\n",
      "median wins = 0.0019330704189139552\n",
      "all_won_sums = 1.3176695949456003\n",
      "_____________________________________________________________________ \n",
      "\n",
      "buy_trigger = 0.6, start_date = 1523321940, end_date= 1523916000\n"
     ]
    },
    {
     "data": {
      "image/png": "[encoded data removed]",
      "text/plain": [
       "<matplotlib.figure.Figure at 0x144e00fd0>"
      ]
     },
     "metadata": {},
     "output_type": "display_data"
    },
    {
     "name": "stdout",
     "output_type": "stream",
     "text": [
      "nb_of_bets = 400\n",
      "ratio of won bets = 0.65\n",
      "median wins = 0.0017550115203560242\n",
      "all_won_sums = 0.9545004824118286\n",
      "_____________________________________________________________________ \n",
      "\n",
      "buy_trigger = 0.9, start_date = 1523321940, end_date= 1523916000\n"
     ]
    },
    {
     "data": {
      "image/png": "[encoded data removed]",
      "text/plain": [
       "<matplotlib.figure.Figure at 0x144df6898>"
      ]
     },
     "metadata": {},
     "output_type": "display_data"
    },
    {
     "name": "stdout",
     "output_type": "stream",
     "text": [
      "nb_of_bets = 126\n",
      "ratio of won bets = 0.6190476190476191\n",
      "median wins = 0.002335354405396707\n",
      "all_won_sums = 0.38723144738833354\n",
      "_____________________________________________________________________ \n",
      "\n",
      "buy_trigger = 0.91, start_date = 1523321940, end_date= 1523916000\n"
     ]
    },
    {
     "data": {
      "image/png": "[encoded data removed]",
      "text/plain": [
       "<matplotlib.figure.Figure at 0x144a571d0>"
      ]
     },
     "metadata": {},
     "output_type": "display_data"
    },
    {
     "name": "stdout",
     "output_type": "stream",
     "text": [
      "nb_of_bets = 97\n",
      "ratio of won bets = 0.6494845360824743\n",
      "median wins = 0.002610027767582549\n",
      "all_won_sums = 0.32227776587641893\n",
      "_____________________________________________________________________ \n",
      "\n",
      "buy_trigger = 0.92, start_date = 1523321940, end_date= 1523916000\n"
     ]
    },
    {
     "data": {
      "image/png": "[encoded data removed]",
      "text/plain": [
       "<matplotlib.figure.Figure at 0x144dfb9b0>"
      ]
     },
     "metadata": {},
     "output_type": "display_data"
    },
    {
     "name": "stdout",
     "output_type": "stream",
     "text": [
      "nb_of_bets = 97\n",
      "ratio of won bets = 0.6494845360824743\n",
      "median wins = 0.002610027767582549\n",
      "all_won_sums = 0.32227776587641893\n",
      "_____________________________________________________________________ \n",
      "\n",
      "buy_trigger = 0.93, start_date = 1523321940, end_date= 1523916000\n"
     ]
    },
    {
     "data": {
      "image/png": "[encoded data removed]",
      "text/plain": [
       "<matplotlib.figure.Figure at 0x145357080>"
      ]
     },
     "metadata": {},
     "output_type": "display_data"
    },
    {
     "name": "stdout",
     "output_type": "stream",
     "text": [
      "nb_of_bets = 97\n",
      "ratio of won bets = 0.6494845360824743\n",
      "median wins = 0.002610027767582549\n",
      "all_won_sums = 0.32227776587641893\n",
      "_____________________________________________________________________ \n",
      "\n",
      "buy_trigger = 0.95, start_date = 1523321940, end_date= 1523916000\n"
     ]
    },
    {
     "data": {
      "image/png": "[encoded data removed]",
      "text/plain": [
       "<matplotlib.figure.Figure at 0x145762588>"
      ]
     },
     "metadata": {},
     "output_type": "display_data"
    },
    {
     "name": "stdout",
     "output_type": "stream",
     "text": [
      "nb_of_bets = 1104\n",
      "ratio of won bets = 0.6856884057971014\n",
      "median wins = 0.0024615211656467033\n",
      "all_won_sums = 3.949601955652543\n",
      "_____________________________________________________________________ \n",
      "\n"
     ]
    }
   ],
   "source": [
    "# evaluate our trading algorithm\n",
    "\n",
    "\n",
    "array_buy_trigger = [0.5, 0.6, 0.7, 0.8, 0.9, 0.95]\n",
    "#try_winning_with_all_cryptos(array_buy_trigger)\n",
    "\n",
    "\n",
    "#display_all_currencies_graphs = True\n",
    "#print_log = False\n",
    "#try_winning_with_all_cryptos([0.9], estimation_start_date, estimation_end_date, \\\n",
    "#                             display_all_currencies_graphs, print_log) # 0.9 est le best\n",
    "\n",
    "\n",
    "# buy_trigger = 0.9\n",
    "# study_all_days_bot_test_periods(buy_trigger)\n",
    "\n",
    "\n",
    "# array_buy_trigger = [0.9]\n",
    "# study_all_weeks_all_periods(array_buy_trigger)\n",
    "\n",
    "\n",
    "array_buy_trigger = [0.5, 0.6, 0.9, 0.91, 0.92, 0.93, 0.95]\n",
    "study_all_period(array_buy_trigger)\n"
   ]
  },
  {
   "cell_type": "code",
   "execution_count": null,
   "metadata": {},
   "outputs": [],
   "source": [
    "#%reset_selective d_symbol_minutes_before_retrying\n",
    "\n",
    "# for symbol in d_symbol_bucket:\n",
    "#     print(symbol)"
   ]
  },
  {
   "cell_type": "code",
   "execution_count": null,
   "metadata": {},
   "outputs": [],
   "source": [
    "#%reset_selective d_symbol_bucket"
   ]
  },
  {
   "cell_type": "code",
   "execution_count": null,
   "metadata": {},
   "outputs": [],
   "source": [
    "print(d_symbol_timestamps[\"BTCUSDT\"][-1])"
   ]
  },
  {
   "cell_type": "code",
   "execution_count": null,
   "metadata": {},
   "outputs": [],
   "source": []
  }
 ],
 "metadata": {
  "kernelspec": {
   "display_name": "Python 3",
   "language": "python",
   "name": "python3"
  },
  "language_info": {
   "codemirror_mode": {
    "name": "ipython",
    "version": 3
   },
   "file_extension": ".py",
   "mimetype": "text/x-python",
   "name": "python",
   "nbconvert_exporter": "python",
   "pygments_lexer": "ipython3",
   "version": "3.5.0"
  }
 },
 "nbformat": 4,
 "nbformat_minor": 2
}
